{
 "cells": [
  {
   "cell_type": "markdown",
   "metadata": {},
   "source": [
    "Import relevant modules"
   ]
  },
  {
   "cell_type": "code",
   "execution_count": 7,
   "metadata": {},
   "outputs": [],
   "source": [
    "#import relevant modules\n",
    "from astroquery.jplhorizons import Horizons\n",
    "import pandas as pd\n",
    "import numpy as np\n",
    "import matplotlib.pyplot as plt\n",
    "import functions\n",
    "import subprocess\n",
    "import os\n",
    "import time\n",
    "import csv"
   ]
  },
  {
   "cell_type": "markdown",
   "metadata": {},
   "source": [
    "Object and observatory details"
   ]
  },
  {
   "cell_type": "code",
   "execution_count": 2,
   "metadata": {},
   "outputs": [],
   "source": [
    "object = 'Astraea'\n",
    "obs_code = 995"
   ]
  },
  {
   "cell_type": "markdown",
   "metadata": {},
   "source": [
    "Jackknifing process - removing 5 observations one-by-one "
   ]
  },
  {
   "cell_type": "code",
   "execution_count": 38,
   "metadata": {},
   "outputs": [
    {
     "name": "stdout",
     "output_type": "stream",
     "text": [
      "['123456789|123456789|123456789|123456789|123456789|123456789|123456789|123456789|\\n', '<-ObjDesig->*nnYYYY MM DD.DDDDD HH MM SS.SSSsdd mm ss.ss<blanks >MM.MMBz<ref>COD\\n', 'Astraea        2024 01 06.82327 06 13 11.48 +16 51 31.24                     995 0.145 0.140\\n', 'Astraea        2024 01 12.90861 06 07 40.30 +17 12 58.94                     995 0.084 0.169\\n', 'Astraea        2024 01 13.83862 06 06 53.63 +17 16 25.37                     995 0.100 0.088\\n', 'Astraea        2024 01 14.89214 06 06 02.02 +17 20 22.59                     995 0.122 0.096\\n', 'Astraea        2024 01 15.79895 06 05 19.11 +17 23 48.50                     995 0.147 0.138\\n', 'Astraea        2024 01 17.77508 06 03 49.76 +17 31 24.49                     995 0.201 0.166\\n', 'Astraea        2024 01 18.72885 06 03 08.96 +17 35 07.13                     995 0.240 0.209\\n', 'Astraea        2024 01 24.82115 05 59 26.57 +17 59 30.35                     995 0.108 0.191\\n', 'Astraea        2024 01 26.74724 05 58 31.47 +18 07 16.96                     995 0.428 0.470\\n']\n",
      "['123456789|123456789|123456789|123456789|123456789|123456789|123456789|123456789|\\n', '<-ObjDesig->*nnYYYY MM DD.DDDDD HH MM SS.SSSsdd mm ss.ss<blanks >MM.MMBz<ref>COD\\n', 'Astraea        2024 01 06.82327 06 13 11.48 +16 51 31.24                     995 0.145 0.140\\n', 'Astraea        2024 01 12.90861 06 07 40.30 +17 12 58.94                     995 0.084 0.169\\n', 'Astraea        2024 01 13.83862 06 06 53.63 +17 16 25.37                     995 0.100 0.088\\n', 'Astraea        2024 01 14.89214 06 06 02.02 +17 20 22.59                     995 0.122 0.096\\n']\n",
      "['123456789|123456789|123456789|123456789|123456789|123456789|123456789|123456789|\\n', '<-ObjDesig->*nnYYYY MM DD.DDDDD HH MM SS.SSSsdd mm ss.ss<blanks >MM.MMBz<ref>COD\\n', 'Astraea        2024 01 06.82327 06 13 11.48 +16 51 31.24                     995 0.145 0.140\\n', 'Astraea        2024 01 12.90861 06 07 40.30 +17 12 58.94                     995 0.084 0.169\\n', 'Astraea        2024 01 13.83862 06 06 53.63 +17 16 25.37                     995 0.100 0.088\\n', 'Astraea        2024 01 14.89214 06 06 02.02 +17 20 22.59                     995 0.122 0.096\\n', 'Astraea        2024 01 15.79895 06 05 19.11 +17 23 48.50                     995 0.147 0.138\\n']\n",
      "['123456789|123456789|123456789|123456789|123456789|123456789|123456789|123456789|\\n', '<-ObjDesig->*nnYYYY MM DD.DDDDD HH MM SS.SSSsdd mm ss.ss<blanks >MM.MMBz<ref>COD\\n', 'Astraea        2024 01 06.82327 06 13 11.48 +16 51 31.24                     995 0.145 0.140\\n', 'Astraea        2024 01 12.90861 06 07 40.30 +17 12 58.94                     995 0.084 0.169\\n', 'Astraea        2024 01 13.83862 06 06 53.63 +17 16 25.37                     995 0.100 0.088\\n', 'Astraea        2024 01 14.89214 06 06 02.02 +17 20 22.59                     995 0.122 0.096\\n', 'Astraea        2024 01 15.79895 06 05 19.11 +17 23 48.50                     995 0.147 0.138\\n', 'Astraea        2024 01 17.77508 06 03 49.76 +17 31 24.49                     995 0.201 0.166\\n']\n",
      "['123456789|123456789|123456789|123456789|123456789|123456789|123456789|123456789|\\n', '<-ObjDesig->*nnYYYY MM DD.DDDDD HH MM SS.SSSsdd mm ss.ss<blanks >MM.MMBz<ref>COD\\n', 'Astraea        2024 01 06.82327 06 13 11.48 +16 51 31.24                     995 0.145 0.140\\n', 'Astraea        2024 01 12.90861 06 07 40.30 +17 12 58.94                     995 0.084 0.169\\n', 'Astraea        2024 01 13.83862 06 06 53.63 +17 16 25.37                     995 0.100 0.088\\n', 'Astraea        2024 01 14.89214 06 06 02.02 +17 20 22.59                     995 0.122 0.096\\n', 'Astraea        2024 01 15.79895 06 05 19.11 +17 23 48.50                     995 0.147 0.138\\n', 'Astraea        2024 01 17.77508 06 03 49.76 +17 31 24.49                     995 0.201 0.166\\n', 'Astraea        2024 01 18.72885 06 03 08.96 +17 35 07.13                     995 0.240 0.209\\n']\n",
      "['123456789|123456789|123456789|123456789|123456789|123456789|123456789|123456789|\\n', '<-ObjDesig->*nnYYYY MM DD.DDDDD HH MM SS.SSSsdd mm ss.ss<blanks >MM.MMBz<ref>COD\\n', 'Astraea        2024 01 06.82327 06 13 11.48 +16 51 31.24                     995 0.145 0.140\\n', 'Astraea        2024 01 12.90861 06 07 40.30 +17 12 58.94                     995 0.084 0.169\\n', 'Astraea        2024 01 13.83862 06 06 53.63 +17 16 25.37                     995 0.100 0.088\\n', 'Astraea        2024 01 14.89214 06 06 02.02 +17 20 22.59                     995 0.122 0.096\\n', 'Astraea        2024 01 15.79895 06 05 19.11 +17 23 48.50                     995 0.147 0.138\\n', 'Astraea        2024 01 17.77508 06 03 49.76 +17 31 24.49                     995 0.201 0.166\\n', 'Astraea        2024 01 18.72885 06 03 08.96 +17 35 07.13                     995 0.240 0.209\\n', 'Astraea        2024 01 24.82115 05 59 26.57 +17 59 30.35                     995 0.108 0.191\\n']\n",
      "[array([3.59149040e+02, 2.57561106e+00, 1.41439580e+02, 1.86303000e-01,\n",
      "       5.36211000e+00, 4.13352000e+00, 2.09576679e+00, 3.05545534e+00]), array([3.59243760e+02, 2.57621381e+00, 1.41468420e+02, 1.87403800e-01,\n",
      "       5.35665000e+00, 4.13497000e+00, 2.09342136e+00, 3.05900625e+00]), array([3.59280790e+02, 2.57651400e+00, 1.41460760e+02, 1.87478200e-01,\n",
      "       5.35778000e+00, 4.13570000e+00, 2.09347365e+00, 3.05955435e+00]), array([3.59188240e+02, 2.57584098e+00, 1.41455610e+02, 1.86840600e-01,\n",
      "       5.35911000e+00, 4.13408000e+00, 2.09456913e+00, 3.05711283e+00]), array([3.59219620e+02, 2.57605331e+00, 1.41461920e+02, 1.87135300e-01,\n",
      "       5.35790000e+00, 4.13459000e+00, 2.09398275e+00, 3.05812386e+00])]\n",
      "[3.59219620e+02 2.57605331e+00 1.41461920e+02 1.87135300e-01\n",
      " 5.35790000e+00 4.13459000e+00 2.09398275e+00 3.05812386e+00]\n",
      "[0.04524446 0.00030934 0.00973464 0.00042804 0.00187001 0.00074564\n",
      " 0.00086753 0.00145565]\n"
     ]
    }
   ],
   "source": [
    "elements = []\n",
    "rows = []\n",
    "os.chdir('C:\\\\Users\\\\bradl\\\\.vscode\\\\advanced_lab')\n",
    "with open(f'Data/{object}_data.txt') as file:\n",
    "    for line in file:\n",
    "        rows.append(line)\n",
    "no_of_observations = len(rows)\n",
    "print(rows)\n",
    "for i in range(no_of_observations-5, no_of_observations):\n",
    "    os.chdir('C:\\\\Users\\\\bradl\\\\.vscode\\\\advanced_lab')\n",
    "    print(rows[0:i])\n",
    "    with open('temp_data.txt', 'w') as file:\n",
    "        file.writelines(rows[0:i])\n",
    "    functions.run_find_orb(f'temp_data.txt')\n",
    "    fo_peri_arg, fo_sma, fo_asc_node, fo_eccentricity, fo_inc, fo_period, fo_peri_dist, fo_apogee_dist = functions.read_fo_elements('elements.txt')\n",
    "    fo_elements = np.array([fo_peri_arg, fo_sma, fo_asc_node, fo_eccentricity, fo_inc, fo_period, fo_peri_dist, fo_apogee_dist], dtype=np.float64)\n",
    "    if i == no_of_observations-1:\n",
    "        best_fit_elements = fo_elements\n",
    "    elements.append(fo_elements)\n",
    "print(elements)\n",
    "print(best_fit_elements)\n",
    "errors = np.std(elements, axis=0)\n",
    "print(errors)"
   ]
  },
  {
   "cell_type": "code",
   "execution_count": 35,
   "metadata": {},
   "outputs": [
    {
     "name": "stdout",
     "output_type": "stream",
     "text": [
      "[359.14904, 359.24376, 359.28079, 359.18824, 359.21962]\n"
     ]
    },
    {
     "data": {
      "text/plain": [
       "0.045244457782145066"
      ]
     },
     "execution_count": 35,
     "metadata": {},
     "output_type": "execute_result"
    }
   ],
   "source": [
    "print([i[0] for i in elements])\n",
    "\n",
    "np.std([i[0] for i in elements])"
   ]
  },
  {
   "cell_type": "code",
   "execution_count": null,
   "metadata": {},
   "outputs": [],
   "source": []
  }
 ],
 "metadata": {
  "kernelspec": {
   "display_name": "Python 3",
   "language": "python",
   "name": "python3"
  },
  "language_info": {
   "codemirror_mode": {
    "name": "ipython",
    "version": 3
   },
   "file_extension": ".py",
   "mimetype": "text/x-python",
   "name": "python",
   "nbconvert_exporter": "python",
   "pygments_lexer": "ipython3",
   "version": "3.8.2"
  }
 },
 "nbformat": 4,
 "nbformat_minor": 2
}
