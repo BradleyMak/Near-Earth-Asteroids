{
 "cells": [
  {
   "cell_type": "markdown",
   "metadata": {},
   "source": [
    "*This is a piece of code to convert our Excel spreadsheets into the 80 column MPC format required for find_orb.*"
   ]
  },
  {
   "cell_type": "markdown",
   "metadata": {},
   "source": [
    "Import modules"
   ]
  },
  {
   "cell_type": "code",
   "execution_count": 1,
   "metadata": {},
   "outputs": [],
   "source": [
    "import pandas as pd\n",
    "import numpy as np\n",
    "import matplotlib.pyplot as plt\n",
    "import functions"
   ]
  },
  {
   "cell_type": "markdown",
   "metadata": {},
   "source": [
    "Object and observatory details"
   ]
  },
  {
   "cell_type": "code",
   "execution_count": 2,
   "metadata": {},
   "outputs": [],
   "source": [
    "object = 'Astraea'\n",
    "obs_code = 995"
   ]
  },
  {
   "cell_type": "markdown",
   "metadata": {},
   "source": [
    "Reads Excel file into relevantly named txt file in correct find_orb format and returns the pandas dataframe produced in the process"
   ]
  },
  {
   "cell_type": "code",
   "execution_count": 4,
   "metadata": {},
   "outputs": [
    {
     "name": "stdout",
     "output_type": "stream",
     "text": [
      "                        Date + Time  Exp time (s)            RA   RA (deg)  \\\n",
      "0           2024-01-06T19:45:30.787          15.0  06:13:11.477  93.297821   \n",
      "1   2024-01-12T21:48:24.032                  15.0  06:07:40.298  91.917908   \n",
      "2   2024-01-13T20:07:37.1525                  8.0  06:06:53.631  91.723463   \n",
      "3          2024-01-14T21:24:41.2043           4.0  06:06:02.022  91.508425   \n",
      "4          2024-01-15T19:10:29.4834           4.0  06:05:19.106  91.329608   \n",
      "5               2024-01-17T18:36:07           4.0  06:03:49.760  90.957333   \n",
      "6          2024-01-18T17:29:32.2997           4.0  06:03:08.965  90.787354   \n",
      "7           2024-01-24T19:42:26.945           2.0  05:59:26.566  89.860692   \n",
      "8          2024-01-26T17:56:01.5886           4.0  05:58:31.474  89.631142   \n",
      "9                               NaN           NaN           NaN        NaN   \n",
      "10                              NaN           NaN           NaN        NaN   \n",
      "11                              NaN           NaN           NaN        NaN   \n",
      "12                              NaN           NaN           NaN        NaN   \n",
      "13                              NaN           NaN           NaN        NaN   \n",
      "14                              NaN           NaN           NaN        NaN   \n",
      "15                              NaN           NaN           NaN        NaN   \n",
      "16                              NaN           NaN           NaN        NaN   \n",
      "17                              NaN           NaN           NaN        NaN   \n",
      "18                              NaN           NaN           NaN        NaN   \n",
      "19                              NaN           NaN           NaN        NaN   \n",
      "20                              NaN           NaN           NaN        NaN   \n",
      "21                              NaN           NaN           NaN        NaN   \n",
      "22                              NaN           NaN           NaN        NaN   \n",
      "23                              NaN           NaN           NaN        NaN   \n",
      "24                              NaN           NaN           NaN        NaN   \n",
      "\n",
      "    RMS_X  FWHM_x (as)  object counts  mean count  background pp  \\\n",
      "0   0.143         4.36      1283400.0     3390.40         410.73   \n",
      "1   0.082         4.55      1505300.0     3344.40         340.00   \n",
      "2   0.099         2.79       852620.0     2493.20         373.61   \n",
      "3   0.120         2.54       624840.0      853.98         137.00   \n",
      "4   0.146         2.51       651080.0     2083.00         213.98   \n",
      "5   0.198         4.44       398440.0      872.11         171.95   \n",
      "6   0.238         2.45       549330.0     1120.50        1126.00   \n",
      "7   0.104         2.64       176720.0      371.91         342.52   \n",
      "8   0.424         5.12       749890.0     1194.30        1361.80   \n",
      "9     NaN          NaN            NaN         NaN            NaN   \n",
      "10    NaN          NaN            NaN         NaN            NaN   \n",
      "11    NaN          NaN            NaN         NaN            NaN   \n",
      "12    NaN          NaN            NaN         NaN            NaN   \n",
      "13    NaN          NaN            NaN         NaN            NaN   \n",
      "14    NaN          NaN            NaN         NaN            NaN   \n",
      "15    NaN          NaN            NaN         NaN            NaN   \n",
      "16    NaN          NaN            NaN         NaN            NaN   \n",
      "17    NaN          NaN            NaN         NaN            NaN   \n",
      "18    NaN          NaN            NaN         NaN            NaN   \n",
      "19    NaN          NaN            NaN         NaN            NaN   \n",
      "20    NaN          NaN            NaN         NaN            NaN   \n",
      "21    NaN          NaN            NaN         NaN            NaN   \n",
      "22    NaN          NaN            NaN         NaN            NaN   \n",
      "23    NaN          NaN            NaN         NaN            NaN   \n",
      "24    NaN          NaN            NaN         NaN            NaN   \n",
      "\n",
      "    Read noise pp  ...  RA err (as)          Dec   Dec (deg)  RMS_Y  FWHM_y  \\\n",
      "0             8.0  ...     0.144745  16:51:31.24  252.880167  0.139    3.64   \n",
      "1             8.0  ...     0.083667  17:12:58.94  258.245583  0.167    4.16   \n",
      "2            18.0  ...     0.100451  17:16:25.37  259.105708  0.087    2.69   \n",
      "3            18.0  ...     0.121693  17:20:22.59  260.094125  0.094    2.36   \n",
      "4            18.0  ...     0.147482  17:23:48.50  260.952083  0.137    2.27   \n",
      "5             8.0  ...     0.201367  17:31:24.49  262.852042  0.163    4.56   \n",
      "6            18.0  ...     0.240126  17:35:07.13  263.779708  0.206    3.07   \n",
      "7             8.0  ...     0.107858  17:59:30.35  269.876458  0.188    2.35   \n",
      "8            15.0  ...     0.427831  18:07:16.96  271.820667  0.467    3.52   \n",
      "9             NaN  ...          NaN          NaN    0.000000    NaN     NaN   \n",
      "10            NaN  ...          NaN          NaN    0.000000    NaN     NaN   \n",
      "11            NaN  ...          NaN          NaN    0.000000    NaN     NaN   \n",
      "12            NaN  ...          NaN          NaN    0.000000    NaN     NaN   \n",
      "13            NaN  ...          NaN          NaN    0.000000    NaN     NaN   \n",
      "14            NaN  ...          NaN          NaN    0.000000    NaN     NaN   \n",
      "15            NaN  ...          NaN          NaN    0.000000    NaN     NaN   \n",
      "16            NaN  ...          NaN          NaN    0.000000    NaN     NaN   \n",
      "17            NaN  ...          NaN          NaN    0.000000    NaN     NaN   \n",
      "18            NaN  ...          NaN          NaN    0.000000    NaN     NaN   \n",
      "19            NaN  ...          NaN          NaN    0.000000    NaN     NaN   \n",
      "20            NaN  ...          NaN          NaN    0.000000    NaN     NaN   \n",
      "21            NaN  ...          NaN          NaN    0.000000    NaN     NaN   \n",
      "22            NaN  ...          NaN          NaN    0.000000    NaN     NaN   \n",
      "23            NaN  ...          NaN          NaN    0.000000    NaN     NaN   \n",
      "24            NaN  ...          NaN          NaN    0.000000    NaN     NaN   \n",
      "\n",
      "          SNR.1  sigma_AST.1  Dec err (as)  Saturated?   Telescope  \n",
      "0   1061.022111     0.001457      0.140457         NaN      draco2  \n",
      "1   1158.904565     0.001524      0.168524         NaN      draco2  \n",
      "2    816.217392     0.001399      0.088399           Y     east-16  \n",
      "3    637.013576     0.001573      0.095573           Y     east-16  \n",
      "4    719.332958     0.001340      0.138340           Y     east-16  \n",
      "5    559.996690     0.003458      0.166458         NaN         NaN  \n",
      "6    489.343456     0.002664      0.208664           N     east-16  \n",
      "7    290.570819     0.003434      0.191434           N      draco2  \n",
      "8    567.475603     0.002634      0.469634           N  fareast-20  \n",
      "9           NaN          NaN           NaN         NaN         NaN  \n",
      "10          NaN          NaN           NaN         NaN         NaN  \n",
      "11          NaN          NaN           NaN         NaN         NaN  \n",
      "12          NaN          NaN           NaN         NaN         NaN  \n",
      "13          NaN          NaN           NaN         NaN         NaN  \n",
      "14          NaN          NaN           NaN         NaN         NaN  \n",
      "15          NaN          NaN           NaN         NaN         NaN  \n",
      "16          NaN          NaN           NaN         NaN         NaN  \n",
      "17          NaN          NaN           NaN         NaN         NaN  \n",
      "18          NaN          NaN           NaN         NaN         NaN  \n",
      "19          NaN          NaN           NaN         NaN         NaN  \n",
      "20          NaN          NaN           NaN         NaN         NaN  \n",
      "21          NaN          NaN           NaN         NaN         NaN  \n",
      "22          NaN          NaN           NaN         NaN         NaN  \n",
      "23          NaN          NaN           NaN         NaN         NaN  \n",
      "24          NaN          NaN           NaN         NaN         NaN  \n",
      "\n",
      "[25 rows x 22 columns]\n"
     ]
    }
   ],
   "source": [
    "df = functions.read_from_excel('Astraea', 995)"
   ]
  },
  {
   "cell_type": "markdown",
   "metadata": {},
   "source": [
    "Plotting Dec vs RA for given object"
   ]
  },
  {
   "cell_type": "code",
   "execution_count": 8,
   "metadata": {},
   "outputs": [
    {
     "data": {
      "image/png": "[encoded data removed]",
      "text/plain": [
       "<Figure size 640x480 with 1 Axes>"
      ]
     },
     "metadata": {},
     "output_type": "display_data"
    }
   ],
   "source": [
    "#setting some parameters for the plots.\n",
    "plt.rcParams.update({'font.size': 16, 'lines.markersize': 7})\n",
    "\n",
    "observatories = []\n",
    "RA_err_deg = []\n",
    "RA_deg = []\n",
    "for i in range(0, len(df['RA'])):\n",
    "    RA = str(df['RA'][i])\n",
    "    RA_err = df['RA err (as)'][i]\n",
    "    if RA != 'nan':\n",
    "        RA_deg.append(functions.RA_to_deg(RA))\n",
    "        RA_err_deg.append(float(RA_err)*15/3600)\n",
    "        try:\n",
    "            observatories.append(df['Observatory'][i])\n",
    "        except:\n",
    "            observatories.append(995)\n",
    "\n",
    "Dec_err_deg = []\n",
    "Dec_deg = []\n",
    "for i in range(0, len(df['Dec'])):\n",
    "    Dec = str(df['Dec'][i])\n",
    "    Dec_err = df['Dec err (as)'][i]\n",
    "    if Dec != 'nan':\n",
    "        Dec_deg.append(functions.dec_to_deg(Dec))\n",
    "        Dec_err_deg.append(float(Dec_err)/3600)\n",
    "\n",
    "plt.errorbar(RA_deg, Dec_deg, xerr = RA_err_deg, yerr = Dec_err_deg, marker = 'o', capsize=3, linestyle = 'None')\n",
    "plt.xlabel('RA (deg)')\n",
    "plt.ylabel('Dec (deg)')\n",
    "plt.title(f'{object} astrometry')\n",
    "plt.savefig(f'plots/{object}_astrometry', bbox_inches='tight')\n",
    "plt.show()\n",
    "plt.close()"
   ]
  },
  {
   "cell_type": "code",
   "execution_count": null,
   "metadata": {},
   "outputs": [],
   "source": []
  },
  {
   "cell_type": "code",
   "execution_count": null,
   "metadata": {},
   "outputs": [],
   "source": []
  }
 ],
 "metadata": {
  "kernelspec": {
   "display_name": "Python 3",
   "language": "python",
   "name": "python3"
  },
  "language_info": {
   "codemirror_mode": {
    "name": "ipython",
    "version": 3
   },
   "file_extension": ".py",
   "mimetype": "text/x-python",
   "name": "python",
   "nbconvert_exporter": "python",
   "pygments_lexer": "ipython3",
   "version": "3.8.2"
  }
 },
 "nbformat": 4,
 "nbformat_minor": 2
}
